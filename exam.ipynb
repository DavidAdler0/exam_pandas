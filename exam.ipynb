{
 "cells": [
  {
   "metadata": {},
   "cell_type": "code",
   "source": "import pandas as pd",
   "id": "6a9e9f5945c1b169",
   "outputs": [],
   "execution_count": null
  },
  {
   "metadata": {},
   "cell_type": "code",
   "source": "df = pd.read_csv('BR (1).csv')\n",
   "id": "533dc2d9d49f227b",
   "outputs": [],
   "execution_count": null
  },
  {
   "metadata": {},
   "cell_type": "code",
   "source": [
    "dates_interest = df.loc[:, ['TIME_PERIOD', 'OBS_VALUE']]\n",
    "dates_interest['TIME_PERIOD'] = pd.to_datetime(dates_interest['TIME_PERIOD'], errors='coerce')\n",
    "israeli_interest = dates_interest[(dates_interest['TIME_PERIOD'].dt.day == 1)].copy().reset_index(drop = True)"
   ],
   "id": "7bdab5b680a58f94",
   "outputs": [],
   "execution_count": null
  },
  {
   "metadata": {},
   "cell_type": "code",
   "source": [
    "israeli_interest['Year'] = israeli_interest['TIME_PERIOD'].dt.year\n",
    "israeli_interest['Month'] = israeli_interest['TIME_PERIOD'].dt.month\n",
    "israeli_interest['Current_Rate'] = israeli_interest['OBS_VALUE']\n",
    "for row in range(1, israeli_interest.shape[0]):\n",
    "    israeli_interest.loc[row , 'Change_From_Last_Month'] = israeli_interest.loc[ row, 'Current_Rate'] - israeli_interest.loc[row-1, 'Current_Rate']\n",
    "israeli_interest_updated = israeli_interest.loc[:,['Year', 'Month', 'Current_Rate', 'Change_From_Last_Month']].copy()\n"
   ],
   "id": "80cbd53becd31939",
   "outputs": [],
   "execution_count": null
  },
  {
   "metadata": {},
   "cell_type": "code",
   "source": [
    "df2 = pd.read_csv('us.csv')\n",
    "us_interest = df2[5:].copy().reset_index(drop = True)\n",
    "us_interest['Series Description'] = pd.to_datetime(us_interest['Series Description'], errors='coerce')"
   ],
   "id": "e6f8f1eb166812b7",
   "outputs": [],
   "execution_count": null
  },
  {
   "metadata": {},
   "cell_type": "code",
   "source": "us_interest['Federal funds effective rate'] = pd.to_numeric(us_interest['Federal funds effective rate'], errors='coerce')",
   "id": "73db64224c2a5067",
   "outputs": [],
   "execution_count": null
  },
  {
   "metadata": {},
   "cell_type": "code",
   "source": [
    "us_interest['Year'] = us_interest['Series Description'].dt.year\n",
    "us_interest['Month'] = us_interest['Series Description'].dt.month\n",
    "us_interest['Current_Rate'] = us_interest['Federal funds effective rate']\n",
    "for row in range(1, us_interest.shape[0]):\n",
    "    us_interest.loc[row , 'Change_From_Last_Month'] = us_interest.loc[ row, 'Current_Rate'] - us_interest.loc[row-1, 'Current_Rate']\n",
    "us_interest_updated = us_interest.loc[:,['Year', 'Month', 'Current_Rate', 'Change_From_Last_Month']].copy()"
   ],
   "id": "c286fdae8798df89",
   "outputs": [],
   "execution_count": null
  },
  {
   "metadata": {},
   "cell_type": "code",
   "outputs": [],
   "execution_count": null,
   "source": "israeli_interest_updated",
   "id": "bc5c47739d856c89"
  },
  {
   "metadata": {},
   "cell_type": "code",
   "source": "us_interest_updated",
   "id": "af260575f39312ac",
   "outputs": [],
   "execution_count": null
  },
  {
   "metadata": {},
   "cell_type": "code",
   "outputs": [],
   "execution_count": null,
   "source": [
    "exchange_rates = pd.read_csv('additional_rates_19930101_20231229_en_USD.csv')\n",
    "exchange_rates.dtypes"
   ],
   "id": "23d076f5dd680210"
  },
  {
   "metadata": {},
   "cell_type": "code",
   "outputs": [],
   "execution_count": null,
   "source": [
    "exchange_rates['Date    '] = pd.to_datetime(exchange_rates['Date    '], errors='coerce')\n",
    "exchange_rates.dtypes"
   ],
   "id": "9279bc285f801d18"
  },
  {
   "metadata": {},
   "cell_type": "markdown",
   "source": [
    "    # Exercise: Exploratory Data Analysis with Pandas\n",
    "## Instructions\n",
    "1. Data Collection\n",
    "    - Search and collect data on the following: (1993 - 2023)\n",
    "        - Israel interest tares\n",
    "        - US interest rates\n",
    "        - USD to ILS exchange rates\n",
    "    - For each dataset, create a pandas DataFrame with the following columns:\n",
    "        - Year\n",
    "        - Month\n",
    "        - Current_Rate (Interest rate or exchange rate for that month)\n",
    "        - Change_From_Last_Month (Difference in Current_Rate from the previous month)\n",
    "        - Optional: You may include additional columns if you find them useful (e.g., Change_Percentage, Date).\n",
    "\n"
   ],
   "id": "2b8e938eb34b0315"
  },
  {
   "metadata": {},
   "cell_type": "markdown",
   "source": [
    "## Part A: Single DataFrame Analysis \n",
    "1. Display the first 5 rows of the US interest rates DataFrame.\n",
    "\n",
    "2. Calculate the average Israeli interest rate over the period covered by your data.\n",
    "\n",
    "3. Find the month and year when the USD to ILS exchange rate had the highest increase from the previous month.\n",
    "\n",
    "4. Determine the total number of months where the US interest rate decreased compared to the previous month.\n",
    "\n",
    "5. Add a new column to the Israeli interest rates DataFrame called Change_Percentage, representing the percentage change from the previous month.\n",
    "\n"
   ],
   "id": "71323c7318598fbb"
  },
  {
   "metadata": {},
   "cell_type": "code",
   "source": [
    "# A - 1\n",
    "us_interest_updated.head()"
   ],
   "id": "399887d7fba8803a",
   "outputs": [],
   "execution_count": null
  },
  {
   "metadata": {},
   "cell_type": "code",
   "source": [
    "# A - 2\n",
    "israeli_interest_updated.Current_Rate.mean()"
   ],
   "id": "91d022cc344514de",
   "outputs": [],
   "execution_count": null
  },
  {
   "metadata": {
    "ExecuteTime": {
     "end_time": "2024-11-07T10:57:13.335280Z",
     "start_time": "2024-11-07T10:57:13.125742Z"
    }
   },
   "cell_type": "code",
   "source": [
    "# A - 3\n",
    "increase_max = 0\n",
    "idx  = 0\n",
    "for row in range(1, exchange_rates.shape[0]):\n",
    "    if exchange_rates.loc[row, 'USD'] - exchange_rates.loc[row-1, 'USD'] > increase_max:\n",
    "        increase_max = exchange_rates.loc[row].USD\n",
    "        idx = row\n",
    "increase_max, idx\n",
    "\n",
    "exchange_rates.loc[idx, \"Date    \"].year, exchange_rates.loc[idx, \"Date    \"].month\n"
   ],
   "id": "c29c363cd4e9a279",
   "outputs": [
    {
     "data": {
      "text/plain": [
       "(2023, 12)"
      ]
     },
     "execution_count": 177,
     "metadata": {},
     "output_type": "execute_result"
    }
   ],
   "execution_count": 177
  },
  {
   "metadata": {
    "ExecuteTime": {
     "end_time": "2024-11-07T10:57:18.922012Z",
     "start_time": "2024-11-07T10:57:18.908731Z"
    }
   },
   "cell_type": "code",
   "source": [
    "# A - 4\n",
    "us_interest_updated.loc[us_interest_updated.Change_From_Last_Month <= 0].shape[0]"
   ],
   "id": "c4c8ec122d04672",
   "outputs": [
    {
     "data": {
      "text/plain": [
       "190"
      ]
     },
     "execution_count": 178,
     "metadata": {},
     "output_type": "execute_result"
    }
   ],
   "execution_count": 178
  },
  {
   "metadata": {
    "ExecuteTime": {
     "end_time": "2024-11-07T10:42:31.753330Z",
     "start_time": "2024-11-07T10:42:31.740671Z"
    }
   },
   "cell_type": "code",
   "source": [
    "# A - 5\n",
    "israeli_interest_updated.Current_Rate.pct_change()"
   ],
   "id": "49115d5dbff52532",
   "outputs": [
    {
     "data": {
      "text/plain": [
       "0           NaN\n",
       "1      0.000000\n",
       "2      0.000000\n",
       "3      0.000000\n",
       "4      0.095238\n",
       "         ...   \n",
       "691         NaN\n",
       "692         NaN\n",
       "693         NaN\n",
       "694         NaN\n",
       "695         NaN\n",
       "Name: Current_Rate, Length: 696, dtype: float64"
      ]
     },
     "execution_count": 171,
     "metadata": {},
     "output_type": "execute_result"
    }
   ],
   "execution_count": 171
  },
  {
   "metadata": {},
   "cell_type": "markdown",
   "source": [
    "## Part B: Merging DataFrames\n",
    "1. Merge the US and Israeli interest rates DataFrames on Year and Month.\n",
    "\n",
    "2. In the merged DataFrame, create a new column Rate_Difference that shows the difference between the Israeli and US interest rates for each month.\n",
    "\n",
    "3. Identify all months when the Israeli interest rate was at least 1% higher than the US interest rate - IH (Israeli Higher).\n",
    "Identify all months when the US interest rate was at least 1% higher than the Israeli interest rate - UH (US Higher).\n",
    "Identify all months when the interest rates were within 1% of each other - N (Near)\n",
    "make a new column called Rate_Comparison with the following values: IH, UH, or N.\n",
    "\n",
    "4. Merge the exchange rate DataFrame with the merged interest rates DataFrame.\n",
    "\n",
    "5. After merging all three DataFrames, find the correlation between the Rate_Difference and the Current_Rate of the exchange rate.\n",
    "hint: find the connection between the difference in interest rates and the exchange rates, use any method you think is appropriate.\n",
    "provide an explanation of the results (in Hebrew) - at least 2 rows of text + a proof of the connection(some output) you found.\n"
   ],
   "id": "37324394ba9e1454"
  },
  {
   "metadata": {
    "ExecuteTime": {
     "end_time": "2024-11-07T10:50:25.659282Z",
     "start_time": "2024-11-07T10:50:25.642639Z"
    }
   },
   "cell_type": "code",
   "source": [
    "# B - 1\n",
    "merged_interests = israeli_interest_updated.merge(us_interest_updated, on=['Year', 'Month'])\n",
    "merged_interests.head()"
   ],
   "id": "f6fcdba8d4d32d73",
   "outputs": [
    {
     "data": {
      "text/plain": [
       "   Year  Month  Current_Rate_x Change_From_Last_Month_x  Current_Rate_y  \\\n",
       "0  1994      2            10.5                      NaN            3.25   \n",
       "1  1994      3            10.5                      0.0            3.34   \n",
       "2  1994      4            10.5                      0.0            3.56   \n",
       "3  1994      5            10.5                      0.0            4.01   \n",
       "4  1994      6            11.5                      1.0            4.25   \n",
       "\n",
       "   Change_From_Last_Month_y  \n",
       "0                      0.20  \n",
       "1                      0.09  \n",
       "2                      0.22  \n",
       "3                      0.45  \n",
       "4                      0.24  "
      ],
      "text/html": [
       "<div>\n",
       "<style scoped>\n",
       "    .dataframe tbody tr th:only-of-type {\n",
       "        vertical-align: middle;\n",
       "    }\n",
       "\n",
       "    .dataframe tbody tr th {\n",
       "        vertical-align: top;\n",
       "    }\n",
       "\n",
       "    .dataframe thead th {\n",
       "        text-align: right;\n",
       "    }\n",
       "</style>\n",
       "<table border=\"1\" class=\"dataframe\">\n",
       "  <thead>\n",
       "    <tr style=\"text-align: right;\">\n",
       "      <th></th>\n",
       "      <th>Year</th>\n",
       "      <th>Month</th>\n",
       "      <th>Current_Rate_x</th>\n",
       "      <th>Change_From_Last_Month_x</th>\n",
       "      <th>Current_Rate_y</th>\n",
       "      <th>Change_From_Last_Month_y</th>\n",
       "    </tr>\n",
       "  </thead>\n",
       "  <tbody>\n",
       "    <tr>\n",
       "      <th>0</th>\n",
       "      <td>1994</td>\n",
       "      <td>2</td>\n",
       "      <td>10.5</td>\n",
       "      <td>NaN</td>\n",
       "      <td>3.25</td>\n",
       "      <td>0.20</td>\n",
       "    </tr>\n",
       "    <tr>\n",
       "      <th>1</th>\n",
       "      <td>1994</td>\n",
       "      <td>3</td>\n",
       "      <td>10.5</td>\n",
       "      <td>0.0</td>\n",
       "      <td>3.34</td>\n",
       "      <td>0.09</td>\n",
       "    </tr>\n",
       "    <tr>\n",
       "      <th>2</th>\n",
       "      <td>1994</td>\n",
       "      <td>4</td>\n",
       "      <td>10.5</td>\n",
       "      <td>0.0</td>\n",
       "      <td>3.56</td>\n",
       "      <td>0.22</td>\n",
       "    </tr>\n",
       "    <tr>\n",
       "      <th>3</th>\n",
       "      <td>1994</td>\n",
       "      <td>5</td>\n",
       "      <td>10.5</td>\n",
       "      <td>0.0</td>\n",
       "      <td>4.01</td>\n",
       "      <td>0.45</td>\n",
       "    </tr>\n",
       "    <tr>\n",
       "      <th>4</th>\n",
       "      <td>1994</td>\n",
       "      <td>6</td>\n",
       "      <td>11.5</td>\n",
       "      <td>1.0</td>\n",
       "      <td>4.25</td>\n",
       "      <td>0.24</td>\n",
       "    </tr>\n",
       "  </tbody>\n",
       "</table>\n",
       "</div>"
      ]
     },
     "execution_count": 176,
     "metadata": {},
     "output_type": "execute_result"
    }
   ],
   "execution_count": 176
  },
  {
   "metadata": {},
   "cell_type": "code",
   "source": "# B - 2\n",
   "id": "7f18978fee56c6d6",
   "outputs": [],
   "execution_count": null
  },
  {
   "metadata": {},
   "cell_type": "code",
   "source": [
    "# B - 3\n",
    "# your code here"
   ],
   "id": "c6dcf835650149bf",
   "outputs": [],
   "execution_count": null
  },
  {
   "metadata": {},
   "cell_type": "code",
   "source": [
    "# B - 4\n",
    "# your code here"
   ],
   "id": "3145d351d7cbe982",
   "outputs": [],
   "execution_count": null
  },
  {
   "metadata": {},
   "cell_type": "code",
   "source": [
    "# B - 5\n",
    "# your code here"
   ],
   "id": "fe04eba74c68ab35",
   "outputs": [],
   "execution_count": null
  },
  {
   "metadata": {},
   "cell_type": "code",
   "source": "",
   "id": "48d876ac1bc8092",
   "outputs": [],
   "execution_count": null
  },
  {
   "metadata": {},
   "cell_type": "markdown",
   "source": [
    "## Part C: Analyzing Relationships Between DataFrames\n",
    "1. Analyze whether increases in US interest rates are associated with increases or decreases in the USD to ILS exchange rate in the same month.\n",
    "\n",
    "2. Determine if changes in the Israeli interest rate have a stronger impact on the exchange rate than changes in the US interest rate.\n",
    "\n",
    "3. Find any time lags in the effect of interest rate changes on the exchange rate. For example, does a change in US interest rates affect the exchange rate in the following month?\n",
    "(כלומר- האם כשיש שינוי בריבית כלשהי - האם מייד יש שינוי בשער ההמרה? או שיש דיליי של חודש/חודשים עד שמרגישים את ההשפעה - אם בכלל?)\n",
    "\n",
    "4. Calculate the rolling past 3-month average of the exchange rate for each data time, and add it as a new column.\n",
    "\n",
    "5. Identify any periods where both US and Israeli interest rates were decreasing, and analyze how the exchange rate behaved during those periods.\n",
    "\n"
   ],
   "id": "22213f81bdf06965"
  },
  {
   "metadata": {},
   "cell_type": "code",
   "source": "# Bonus ",
   "id": "706a690fd803211c",
   "outputs": [],
   "execution_count": null
  },
  {
   "metadata": {},
   "cell_type": "markdown",
   "source": [
    "# Bonus\n",
    "choose 3 global / local events or periods that you think could have affected the exchange rate or interest rates\n",
    "and analyze the effect of these events on the data you collected.\n",
    "show proof of your analysis that supports your claim.\n",
    "\n",
    "(כלומר- תבחנו אירועים שקרו בתקופה שאתם עובדים עליה ובדקו איך הם השפיעו על הנתונים שאתם עובדים איתם)\n",
    "למשל: בחירות בארה״ב, בחירות בישראל, רוסיה אוקראינה, מלחמות בישראל וכו׳."
   ],
   "id": "8be22debf92d8f3a"
  },
  {
   "metadata": {},
   "cell_type": "code",
   "source": "# Your code here",
   "id": "7cd992b43f3700e8",
   "outputs": [],
   "execution_count": null
  }
 ],
 "metadata": {
  "kernelspec": {
   "display_name": "Python 3",
   "language": "python",
   "name": "python3"
  },
  "language_info": {
   "codemirror_mode": {
    "name": "ipython",
    "version": 2
   },
   "file_extension": ".py",
   "mimetype": "text/x-python",
   "name": "python",
   "nbconvert_exporter": "python",
   "pygments_lexer": "ipython2",
   "version": "2.7.6"
  }
 },
 "nbformat": 4,
 "nbformat_minor": 5
}
